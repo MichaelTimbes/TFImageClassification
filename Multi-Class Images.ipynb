{
 "cells": [
  {
   "cell_type": "code",
   "execution_count": 1,
   "metadata": {
    "collapsed": true,
    "deletable": true,
    "editable": true
   },
   "outputs": [],
   "source": [
    "# Convolutional Network for Image Classification\n",
    "# Michael Timbes"
   ]
  },
  {
   "cell_type": "code",
   "execution_count": 2,
   "metadata": {
    "collapsed": true,
    "deletable": true,
    "editable": true
   },
   "outputs": [],
   "source": [
    "import tensorflow as tf\n",
    "import numpy as np\n",
    "\n",
    "#Visualization\n",
    "import matplotlib.pyplot as plt\n",
    "\n",
    "#File import\n",
    "from os import listdir\n",
    "from os import path as opath\n",
    "from PIL import Image as PImage\n",
    "import pickle\n",
    "\n",
    "#Path of train images\n",
    "train_path = ('NotFace')\n",
    "\n",
    "#Path of test images\n",
    "test_path = ('test_set')\n",
    "\n",
    "IMAG_X = 100\n",
    "\n",
    "# Keys\n",
    "keyA = 'face' #True Class\n",
    "keyB = 'notface' #False Class"
   ]
  },
  {
   "cell_type": "code",
   "execution_count": 3,
   "metadata": {
    "collapsed": true,
    "deletable": true,
    "editable": true
   },
   "outputs": [],
   "source": [
    "#Import data\n",
    "def ImportImages(path):\n",
    "    \"\"\"\n",
    "    def ImportImages(path):\n",
    "    USES VARIABLES: IMAG_X, IMAG_Y, expects these to be set already.\n",
    "    If prefered, edit code to pass them as arguments. Images must be in \n",
    "    RGB space.\n",
    "    ________________________________________________________________\n",
    "    Function Outline:\n",
    "    1. Loads list of images from the path variable (type string).\n",
    "    2. Iterates through directory loads image into I/O file stream.\n",
    "    3. Converts file Numpy array.\n",
    "    4. Reads labels and converts to binary class.\n",
    "    5. Returns Numpy array objects for images and labels.\n",
    "    \"\"\"\n",
    "\n",
    "    imagesList = listdir(path)\n",
    "    \n",
    "    loadedImages = []\n",
    "    \n",
    "    loadedLabels = []\n",
    "  \n",
    "    new_size = IMAG_X, IMAG_X\n",
    "    \n",
    "    for image in imagesList:\n",
    "        if not(\".DS_Store\" in path +'/'+ image): #Issue in Mac File System\n",
    "            img = PImage.open(path +'/'+ image)\n",
    "            label = opath.splitext(image)[:]\n",
    "        # Pull file name from current image- use it as a label\n",
    "        \n",
    "            loadedLabels.append(label[0])\n",
    "            img.load()\n",
    "        # Resize step- ensures that all images follow.\n",
    "            #img.thumbnail(new_size, PImage.ANTIALIAS )\n",
    "            #img.convert('1')\n",
    "            #img.resize(new_size)\n",
    "            loadedImages.append(np.asarray( img, dtype=\"int32\" ))\n",
    "        \n",
    "    # Convert to Binary Classification.\n",
    "    for i in range(0,len(loadedLabels)):\n",
    "        if (keyA in loadedLabels[i] and not(keyB in loadedLabels[i]) ):\n",
    "            loadedLabels[i] = [1, 0]\n",
    "        else:\n",
    "            loadedLabels[i] = [0, 1]\n",
    "    \n",
    "    return np.asarray(loadedImages), np.asarray(loadedLabels)"
   ]
  },
  {
   "cell_type": "code",
   "execution_count": 4,
   "metadata": {
    "collapsed": true,
    "deletable": true,
    "editable": true
   },
   "outputs": [],
   "source": [
    "def weight_variable(shape):\n",
    "    \"\"\"\n",
    "    Helper function to help initialize weight variables.\n",
    "    \"\"\"\n",
    "    initial = tf.truncated_normal(shape, stddev=0.1)\n",
    "    return tf.Variable(initial)\n"
   ]
  },
  {
   "cell_type": "code",
   "execution_count": 5,
   "metadata": {
    "collapsed": true,
    "deletable": true,
    "editable": true
   },
   "outputs": [],
   "source": [
    "def bias_variable(shape):\n",
    "    \"\"\"\n",
    "    Helper function to initialize bias variable.\n",
    "    \"\"\"\n",
    "    initial = tf.constant(0.1, shape=shape)\n",
    "    return tf.Variable(initial)"
   ]
  },
  {
   "cell_type": "code",
   "execution_count": 6,
   "metadata": {
    "collapsed": true,
    "deletable": true,
    "editable": true
   },
   "outputs": [],
   "source": [
    "def conv2d(x, W):\n",
    "    \"\"\"\n",
    "    Helper function that returns a 2d convolutional layer\n",
    "    \"\"\"\n",
    "    x = x.astype(np.float32, copy=False)\n",
    "    return tf.nn.conv2d(x, W, strides=[1, 1, 1, 1], padding='SAME')\n"
   ]
  },
  {
   "cell_type": "code",
   "execution_count": 7,
   "metadata": {
    "collapsed": true,
    "deletable": true,
    "editable": true
   },
   "outputs": [],
   "source": [
    "def max_pool_2x2(x):\n",
    "    return tf.nn.max_pool(x, ksize=[1, 2, 2, 1], strides=[1, 2, 2, 1], padding='SAME')"
   ]
  },
  {
   "cell_type": "code",
   "execution_count": 8,
   "metadata": {
    "collapsed": true,
    "deletable": true,
    "editable": true
   },
   "outputs": [],
   "source": [
    "def shape_up(data, size):\n",
    "    \"\"\"\n",
    "    shape_up_X(train_X, IMAG_X):\n",
    "    Expects a NUM_IN * NUM_IN sized picture. Changes\n",
    "    the shape to be (N,NUM_IN**2).\n",
    "    ____________________________________\n",
    "    \"\"\"\n",
    "    #num_exs = len(data[:,0,0])\n",
    "    #for i in range(num_exs):\n",
    "      #  temp.append(tf.reshape(data[i,:,:], [-1,size,size,1]))\n",
    "    return np.reshape(data, [-1,size,size,1])"
   ]
  },
  {
   "cell_type": "code",
   "execution_count": 9,
   "metadata": {
    "collapsed": false,
    "deletable": true,
    "editable": true
   },
   "outputs": [
    {
     "name": "stdout",
     "output_type": "stream",
     "text": [
      "(123, 100, 100, 1)\n"
     ]
    }
   ],
   "source": [
    "# Data Import\n",
    "x_tr, y_tr = ImportImages(train_path)\n",
    "\n",
    "# Data Convert\n",
    "x_tr = shape_up(x_tr,IMAG_X)\n",
    "x_tr.astype(float);\n",
    "print(x_tr.shape)"
   ]
  },
  {
   "cell_type": "code",
   "execution_count": 10,
   "metadata": {
    "collapsed": false,
    "deletable": true,
    "editable": true
   },
   "outputs": [],
   "source": [
    "# Layer 1\n",
    "\n",
    "W_conv1 = weight_variable([5, 5, 1, 32])\n",
    "b_conv1 = bias_variable([32])\n",
    "\n",
    "# Convolution of Layer 1\n",
    "h_conv1 = tf.nn.relu(conv2d(x_tr, W_conv1) + b_conv1)\n",
    "h_pool1 = max_pool_2x2(h_conv1)"
   ]
  },
  {
   "cell_type": "code",
   "execution_count": 11,
   "metadata": {
    "collapsed": false
   },
   "outputs": [],
   "source": [
    "# Connected Layer\n",
    "W_fc1 = weight_variable([50 * 50 * 32, 64])\n",
    "b_fc1 = bias_variable([64])\n",
    "\n",
    "h_pool2_flat = tf.reshape(h_pool1, [-1, 50* 50* 32])\n",
    "h_fc1 = tf.nn.relu(tf.matmul(h_pool2_flat, W_fc1) + b_fc1)"
   ]
  },
  {
   "cell_type": "code",
   "execution_count": 12,
   "metadata": {
    "collapsed": true
   },
   "outputs": [],
   "source": [
    "# Output Layer\n",
    "W_fc2 = weight_variable([64, 2])\n",
    "b_fc2 = bias_variable([2])\n",
    "\n",
    "y_conv = tf.matmul(h_fc1, W_fc2) + b_fc2"
   ]
  },
  {
   "cell_type": "code",
   "execution_count": 13,
   "metadata": {
    "collapsed": true
   },
   "outputs": [],
   "source": [
    "# Set Up Training\n",
    "cross_entropy = tf.reduce_mean(tf.nn.softmax_cross_entropy_with_logits(labels=y_, logits=y_conv))"
   ]
  }
 ],
 "metadata": {
  "kernelspec": {
   "display_name": "Python 3",
   "language": "python",
   "name": "python3"
  },
  "language_info": {
   "codemirror_mode": {
    "name": "ipython",
    "version": 3
   },
   "file_extension": ".py",
   "mimetype": "text/x-python",
   "name": "python",
   "nbconvert_exporter": "python",
   "pygments_lexer": "ipython3",
   "version": "3.6.0"
  }
 },
 "nbformat": 4,
 "nbformat_minor": 2
}
