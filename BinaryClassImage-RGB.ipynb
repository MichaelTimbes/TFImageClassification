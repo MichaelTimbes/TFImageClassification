{
 "cells": [
  {
   "cell_type": "code",
   "execution_count": 1,
   "metadata": {
    "collapsed": true
   },
   "outputs": [],
   "source": [
    "#Michael Timbes\n",
    "#Purpose:\n",
    "#Image_Classification Based on Logistic classification model. Single hidden layer, does not use convolutional layers\n",
    "#does not use pooling."
   ]
  },
  {
   "cell_type": "code",
   "execution_count": 2,
   "metadata": {
    "collapsed": true
   },
   "outputs": [],
   "source": [
    "import tensorflow as tf\n",
    "import imageprep"
   ]
  },
  {
   "cell_type": "code",
   "execution_count": 3,
   "metadata": {
    "collapsed": true
   },
   "outputs": [],
   "source": [
    "#Path of train images\n",
    "train_path = 'trainset2'\n",
    "#Path of test images\n",
    "test_path = 'testset2'\n",
    "\n",
    "#Dimension of image\n",
    "WIDTH = 100\n",
    "HEIGHT = 100\n",
    "\n",
    "#Trainig rate alpha\n",
    "alpha = 0.1\n",
    "\n",
    "#Number of inputs defined\n",
    "NUM_IN = WIDTH * HEIGHT\n",
    "\n",
    "#Number of classifications\n",
    "y_out_clss = 2\n",
    "keyA = 'face' #True Class\n",
    "keyB = 'notface' #False Class\n",
    "\n",
    "#Size of batch\n",
    "BatchSize = 2"
   ]
  },
  {
   "cell_type": "markdown",
   "metadata": {},
   "source": [
    "# Data Preparation\n",
    "* Import Images\n",
    "* Reshape Images\n",
    "* Final Array Should Be:\n",
    "$$train_{x} = \\begin{pmatrix} \n",
    "[Picture Array_{MxM}] , & [Num Examples]\\\\\n",
    "\\end{pmatrix}$$\n",
    "$$train_{y} = \\begin{pmatrix} \n",
    "Class_{1} & Class_{2} & \\cdots & Class_{n}\\\\\n",
    "\\end{pmatrix}$$\n",
    "Where the $Class_{n}$ is either a 1 for the true class or 0 for the false class."
   ]
  },
  {
   "cell_type": "code",
   "execution_count": 5,
   "metadata": {
    "collapsed": false
   },
   "outputs": [
    {
     "name": "stdout",
     "output_type": "stream",
     "text": [
      "(15, 100, 100, 3)\n",
      "Number of examples:  15\n",
      "(15, 30000)\n",
      "[[0 1]\n",
      " [1 0]\n",
      " [1 0]\n",
      " [1 0]\n",
      " [0 1]\n",
      " [0 1]\n",
      " [0 1]\n",
      " [0 1]\n",
      " [1 0]\n",
      " [0 1]\n",
      " [0 1]\n",
      " [0 1]\n",
      " [0 1]\n",
      " [0 1]\n",
      " [1 0]]\n",
      "['notface_97', 'face_92', 'face_90', 'face_91', 'notface_96', 'notface_98', 'notface_2', 'notface_1', 'face_94', 'notface_0', 'notface_3', 'notface_4', 'notface_99', 'notface_95', 'face_93']\n"
     ]
    }
   ],
   "source": [
    "#Training Data Preparation\n",
    "training_images, training_labels, training_original = imageprep.ImportImages(train_path, WIDTH, HEIGHT, keyA, keyB)\n",
    "print(training_images.shape)\n",
    "m = len(training_images)\n",
    "print(\"Number of examples: \", m)\n",
    "training_images = imageprep.shape_up3d(training_images,WIDTH)\n",
    "# Showing the shape of train_X\n",
    "print(training_images.shape)\n",
    "print(training_labels)\n",
    "print(training_original)"
   ]
  },
  {
   "cell_type": "code",
   "execution_count": 9,
   "metadata": {
    "collapsed": false
   },
   "outputs": [
    {
     "name": "stdout",
     "output_type": "stream",
     "text": [
      "(3, 30000)\n",
      "[[0 1]\n",
      " [0 1]\n",
      " [0 1]]\n",
      "['notface_17', 'notface_18', 'notface_19']\n"
     ]
    }
   ],
   "source": [
    "#Testing Data Preparation \n",
    "test_images, test_labels, test_original = imageprep.ImportImages(test_path, WIDTH, HEIGHT, keyA, keyB)\n",
    "test_images = imageprep.shape_up3d(test_images, WIDTH)\n",
    "print(test_images.shape)\n",
    "print(test_labels)\n",
    "print(test_original)"
   ]
  },
  {
   "cell_type": "markdown",
   "metadata": {},
   "source": [
    "# Build Logistic Model\n",
    "## Input Layer\n",
    "Dimension for $X$ is $1xN$. For Tensorflow, x_input_layer as a placeholder must be at least a 1-D vector but can support $MxN$ so a 'None' type is used to be more dynamic. To ensure the matrix multiplication is not an issue be sure that the weight layer and X layer are $Nx1$ and $1xN$. \n",
    "\\begin{equation}\n",
    "    \\begin{pmatrix}\n",
    "    x_{0} \\\\\n",
    "    x_{1} \\\\\n",
    "    \\vdots \\\\\n",
    "    x_{n}\n",
    "    \\end{pmatrix}\n",
    "\\end{equation}\n",
    "## Weights\n",
    "\\begin{equation}\n",
    "    \\begin{pmatrix}\n",
    "    \\theta_{0} & \\theta_{1} & \\cdots & \\theta{n} \\\\\n",
    "     & & \\vdots & \\\\\n",
    "     \\theta_{0} & \\theta_{1} & \\cdots & \\theta{n} \\\\\n",
    "    \\end{pmatrix}\n",
    "\\end{equation}\n",
    "\n",
    "## Output Layer\n",
    "Below is for multi-class in this application where there are $\\theta_{n}$ classes.\n",
    "\\begin{equation}\n",
    "h_{\\theta}(x) = \n",
    "\\begin{pmatrix}\n",
    "    \\theta_{0} & \\theta_{1} & \\cdots & \\theta{n} \\\\\n",
    "     & & \\vdots & \\\\\n",
    "     \\theta_{0} & \\theta_{1} & \\cdots & \\theta{n} \\\\\n",
    "    \\end{pmatrix}\n",
    "    \\begin{pmatrix}\n",
    "    x_{0} \\\\\n",
    "    x_{1} \\\\\n",
    "    \\vdots \\\\\n",
    "    x_{n}\n",
    "    \\end{pmatrix} =\n",
    "     \\begin{pmatrix}\n",
    "    y_{0} \\\\\n",
    "    y_{1} \\\\\n",
    "    \\vdots \\\\\n",
    "    y_{m}\n",
    "    \\end{pmatrix}\n",
    "\\end{equation}"
   ]
  },
  {
   "cell_type": "code",
   "execution_count": 10,
   "metadata": {
    "collapsed": true
   },
   "outputs": [],
   "source": [
    "#The x_input_layer and y_output_layer values are placeholders for the model that accept the flattened image (x) \n",
    "#and then the ouput of theclassifications (y). \n",
    "#\n",
    "x_input_layer = tf.placeholder(tf.float32, shape=[None, NUM_IN * 3]) \n",
    "y_ = tf.placeholder(tf.float32, shape= [None, y_out_clss])\n",
    "\n",
    "\n",
    "#The vectors for weights and b- the bias will be defined as variables for training later.\n",
    "\n",
    "Weights = tf.Variable(tf.zeros([NUM_IN * 3, y_out_clss]))\n",
    "b = tf.Variable(tf.zeros([y_out_clss]))"
   ]
  },
  {
   "cell_type": "code",
   "execution_count": 11,
   "metadata": {
    "collapsed": true
   },
   "outputs": [],
   "source": [
    "#Outline of the model based on the probabilities calculated plus bias values.\n",
    "\n",
    "y = tf.matmul(x_input_layer, Weights) + b"
   ]
  },
  {
   "cell_type": "markdown",
   "metadata": {},
   "source": [
    "# Cross Entropy\n",
    "## Cost Function\n",
    "\\begin{equation}\n",
    "J(\\theta)= -\\frac{1}{m}\\sum_{i=1}^{m} y_{i}log(h_{\\theta}(x_{i}))+\n",
    "\t\t\t\t\t\t\t\t\t  (1-y_{i})log(1-h_{\\theta}(x_{i}))\n",
    "\\end{equation}\n",
    "## Minimize Cost-Gradient Descent\n",
    "\\begin{equation}\n",
    "\\theta_{j} = \\theta_{j}-\\alpha\\frac{1}{m}\\sum_{i=1}^{m}\\left((h_{\\theta}(x_{i})-y_{i})X_{ji}\\right)\n",
    "\\end{equation}"
   ]
  },
  {
   "cell_type": "code",
   "execution_count": 12,
   "metadata": {
    "collapsed": true
   },
   "outputs": [],
   "source": [
    "#This is where the train steps happens. Cross entropy is calculated by running the current model and then running \n",
    "#gradient decent. Training step stores results from the gradient descent minimizing cost function (cross_entropy).\n",
    "\n",
    "\n",
    "cross_entropy = tf.reduce_mean(tf.nn.softmax_cross_entropy_with_logits(labels = y_, logits = y))\n",
    "\n",
    "train_step = tf.train.GradientDescentOptimizer(alpha).minimize(cross_entropy)"
   ]
  },
  {
   "cell_type": "code",
   "execution_count": 13,
   "metadata": {
    "collapsed": true
   },
   "outputs": [],
   "source": [
    "#Init session and global variables\n",
    "sess = tf.InteractiveSession()\n",
    "sess.run(tf.global_variables_initializer())\n",
    "#Design batch variables- ensure dimension\n",
    "#x_batch = np.ones((1, NUM_IN))\n",
    "#y_batch = np.ones((1, 2))"
   ]
  },
  {
   "cell_type": "code",
   "execution_count": 14,
   "metadata": {
    "collapsed": false
   },
   "outputs": [
    {
     "name": "stdout",
     "output_type": "stream",
     "text": [
      "DONE.\n"
     ]
    }
   ],
   "source": [
    "#Training Block:\n",
    "for i in range(1000): #Outside train loop\n",
    "     for j in range(0,m):\n",
    "            sess.run(train_step,feed_dict={x_input_layer: training_images, y_: training_labels})\n",
    "print(\"DONE.\")"
   ]
  },
  {
   "cell_type": "code",
   "execution_count": 16,
   "metadata": {
    "collapsed": false
   },
   "outputs": [
    {
     "name": "stdout",
     "output_type": "stream",
     "text": [
      "1.0\n",
      "[1 1 1]\n",
      "OUTPUT:  ['notface' 'notface' 'notface']\n",
      "ACTUAL:  ['notface_17', 'notface_18', 'notface_19']\n"
     ]
    }
   ],
   "source": [
    "#Test Block:\n",
    "\n",
    "correct_prediction = tf.equal(tf.argmax(y,1), tf.argmax(y_,1))\n",
    "accuracy = tf.reduce_mean(tf.cast(correct_prediction, tf.float32))\n",
    "print(accuracy.eval(feed_dict={x_input_layer: test_images, y_: test_labels}))\n",
    "y_out = sess.run(tf.argmax(y,1),feed_dict={x_input_layer: test_images})\n",
    "\n",
    "# Ouput of Tests\n",
    "print(y_out)\n",
    "classes = imageprep.out_class(y_out, keyA, keyB)\n",
    "print(\"OUTPUT: \", classes)\n",
    "print(\"ACTUAL: \", test_original)"
   ]
  },
  {
   "cell_type": "code",
   "execution_count": null,
   "metadata": {
    "collapsed": true
   },
   "outputs": [],
   "source": []
  }
 ],
 "metadata": {
  "kernelspec": {
   "display_name": "IPython (Python 3)",
   "language": "python",
   "name": "python3"
  },
  "language_info": {
   "name": "python",
   "version": "3.4.2"
  }
 },
 "nbformat": 4,
 "nbformat_minor": 2
}
