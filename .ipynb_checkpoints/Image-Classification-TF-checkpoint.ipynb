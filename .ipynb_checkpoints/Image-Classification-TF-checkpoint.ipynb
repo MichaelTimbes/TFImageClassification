{
 "cells": [
  {
   "cell_type": "code",
   "execution_count": 1,
   "metadata": {
    "collapsed": true
   },
   "outputs": [],
   "source": [
    "#Michael Timbes\n",
    "#Purpose:\n",
    "#Image_Classification Based on Logistic classification model. Single hidden layer, does not use convolutional layers\n",
    "#does not use pooling."
   ]
  },
  {
   "cell_type": "code",
   "execution_count": 2,
   "metadata": {
    "collapsed": false
   },
   "outputs": [],
   "source": [
    "import tensorflow as tf\n",
    "import numpy as np\n",
    "#Visualization\n",
    "import matplotlib.pyplot as plt\n",
    "#File import\n",
    "from os import listdir\n",
    "from os import path as opath\n",
    "from PIL import Image as PImage"
   ]
  },
  {
   "cell_type": "code",
   "execution_count": 3,
   "metadata": {
    "collapsed": false
   },
   "outputs": [],
   "source": [
    "#Path of test images\n",
    "path = ('testimgs')\n",
    "#Dimension of image\n",
    "IMAG_X = 10\n",
    "\n",
    "#Trainig rate alpha\n",
    "alpha = 0.5\n",
    "\n",
    "#Number of inputs defined\n",
    "NUM_IN = (IMAG_X)\n",
    "\n",
    "#Number of classifications\n",
    "y_out_clss = 2"
   ]
  },
  {
   "cell_type": "code",
   "execution_count": 4,
   "metadata": {
    "collapsed": false
   },
   "outputs": [],
   "source": [
    "#Import data\n",
    "def ImportImages(path):\n",
    "    \"\"\"\n",
    "    def ImportImages(path):\n",
    "    USES VARIABLES: IMAG_X, IMAG_Y, expects these to be set already.\n",
    "    If prefered, edit code to pass them as arguments.\n",
    "    ________________________________________________________________\n",
    "    Function Outline:\n",
    "    1. Loads list of images from the path variable (type string).\n",
    "    2. Iterates through directory loads image into I/O file stream.\n",
    "    3. Converts file to LA grey scale and resizes.\n",
    "    4. Casts the image data into Numpy array.\n",
    "    5. Returns Numpy array object.\n",
    "    \"\"\"\n",
    "\n",
    "    imagesList = listdir(path)\n",
    "    \n",
    "    loadedImages = []\n",
    "    \n",
    "    loadedLabels = []\n",
    "    \n",
    "    new_size = IMAG_X, IMAG_X\n",
    "    for image in imagesList:\n",
    "        \n",
    "        img = PImage.open(path +'/'+ image).convert('LA')\n",
    "        #Pull file name from current image- use it as a label\n",
    "        loadedLabels.append(opath.splitext(image)[0])\n",
    "        img.load()\n",
    "        #Resize step- ensures that all images follow.\n",
    "        img.thumbnail(new_size, PImage.ANTIALIAS )\n",
    "        loadedImages = np.asarray( img, dtype=\"int32\" )\n",
    "        \n",
    "    return loadedImages, loadedLabels"
   ]
  },
  {
   "cell_type": "code",
   "execution_count": 5,
   "metadata": {
    "collapsed": true
   },
   "outputs": [],
   "source": [
    "def shape_up_X(train_X, NUM_IN):\n",
    "    \"\"\"\n",
    "    shape_up_X(train_X, NUM_IN):\n",
    "    \n",
    "    Expects a 3D numpy array train_X with \n",
    "    dimensions (width_val, height_val, image#).\n",
    "    Must be square matrix with and height being\n",
    "    equal.\n",
    "    Returns new_X which is a reshaped train_X\n",
    "    of type numpy array.\n",
    "    ____________________________________\n",
    "    Dimensions are (pixels, image#). The\n",
    "    size of the pixels dimension is taken from\n",
    "    the square of NUM_IN. The number of images are \n",
    "    \"\"\"\n",
    "    num_exs = len(train_X[0,0,:])\n",
    "    new_X = train_X.reshape((NUM_IN**2, num_exs ))\n",
    "    return new_X"
   ]
  },
  {
   "cell_type": "code",
   "execution_count": 6,
   "metadata": {
    "collapsed": true
   },
   "outputs": [],
   "source": [
    "def create_batch(train_X, batch_size):\n",
    "    \"\"\"\n",
    "    def create_batch(train_X, batch_size):\n",
    "    __________________________________________\n",
    "    Function Outline:\n",
    "    1.\n",
    "    \"\"\"\n",
    "    return 1"
   ]
  },
  {
   "cell_type": "code",
   "execution_count": 7,
   "metadata": {
    "collapsed": false
   },
   "outputs": [],
   "source": [
    "train_X, train_Y = ImportImages(path)\n",
    "train_X = shape_up_X(train_X,NUM_IN)"
   ]
  },
  {
   "cell_type": "code",
   "execution_count": 8,
   "metadata": {
    "collapsed": true
   },
   "outputs": [],
   "source": [
    "#The x_input_layer and y_output_layer values are placeholders for the model that accept the flattened image (x) \n",
    "#and then the ouput of theclassifications (y). \n",
    "#\n",
    "x_input_layer = tf.placeholder(tf.float32, shape= [None, NUM_IN])\n",
    "y_output_layer = tf.placeholder(tf.float32, shape= [None, y_out_clss])\n",
    "\n",
    "\n",
    "#The vectors for weights and b- the bias will be defined as variables for training later.\n",
    "\n",
    "Weights = tf.Variable(tf.zeros([NUM_IN, y_out_clss]))\n",
    "b = tf.Variable(tf.zeros([y_out_clss]))"
   ]
  },
  {
   "cell_type": "code",
   "execution_count": 9,
   "metadata": {
    "collapsed": true
   },
   "outputs": [],
   "source": [
    "#Outline of the model based on the probabilities calculated plus bias values.\n",
    "\n",
    "y_model = tf.matmul(x_input_layer, Weights) + b"
   ]
  },
  {
   "cell_type": "code",
   "execution_count": 10,
   "metadata": {
    "collapsed": true
   },
   "outputs": [],
   "source": [
    "#This is where the train steps happens. Cross entropy is calculated by running the current model and then running \n",
    "#gradient decent. Training step stores results from the gradient descent minimizing cost function (cross_entropy).\n",
    "\n",
    "\n",
    "cross_entropy = tf.reduce_mean(tf.nn.softmax_cross_entropy_with_logits(labels = y_output_layer, logits = y_model))\n",
    "\n",
    "train_step = tf.train.GradientDescentOptimizer(alpha).minimize(cross_entropy)"
   ]
  },
  {
   "cell_type": "code",
   "execution_count": 11,
   "metadata": {
    "collapsed": true
   },
   "outputs": [],
   "source": [
    "#Init session and global variables\n",
    "sess = tf.InteractiveSession()\n",
    "sess.run(tf.global_variables_initializer())"
   ]
  },
  {
   "cell_type": "code",
   "execution_count": 12,
   "metadata": {
    "collapsed": true
   },
   "outputs": [],
   "source": [
    "#Training block\n",
    "#for i in range(10): #Outside train loop\n",
    "    #for start in range(len(train_X)):\n",
    "        #end = start + batch_size\n",
    " #   train_step.run(feed_dict={x: train_X[start:end], y_: train_Y[start:end]}) "
   ]
  }
 ],
 "metadata": {
  "kernelspec": {
   "display_name": "Python 3",
   "language": "python",
   "name": "python3"
  },
  "language_info": {
   "codemirror_mode": {
    "name": "ipython",
    "version": 3
   },
   "file_extension": ".py",
   "mimetype": "text/x-python",
   "name": "python",
   "nbconvert_exporter": "python",
   "pygments_lexer": "ipython3",
   "version": "3.6.0"
  }
 },
 "nbformat": 4,
 "nbformat_minor": 2
}
