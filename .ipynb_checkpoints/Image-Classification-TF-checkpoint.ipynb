{
 "cells": [
  {
   "cell_type": "code",
   "execution_count": 75,
   "metadata": {
    "collapsed": true,
    "deletable": true,
    "editable": true
   },
   "outputs": [],
   "source": [
    "#Michael Timbes\n",
    "#Purpose:\n",
    "#Image_Classification Based on Logistic classification model. Single hidden layer, does not use convolutional layers\n",
    "#does not use pooling."
   ]
  },
  {
   "cell_type": "code",
   "execution_count": 76,
   "metadata": {
    "collapsed": false,
    "deletable": true,
    "editable": true
   },
   "outputs": [],
   "source": [
    "import tensorflow as tf\n",
    "import numpy as np\n",
    "#Visualization\n",
    "import matplotlib.pyplot as plt\n",
    "#File import\n",
    "import filecmp as fcmp\n",
    "from os import listdir\n",
    "from os import path as opath\n",
    "from PIL import Image as PImage"
   ]
  },
  {
   "cell_type": "code",
   "execution_count": 77,
   "metadata": {
    "collapsed": false,
    "deletable": true,
    "editable": true
   },
   "outputs": [],
   "source": [
    "#Path of test images\n",
    "path = ('train_set')\n",
    "#Dimension of image\n",
    "IMAG_X = 10\n",
    "\n",
    "#Trainig rate alpha\n",
    "alpha = 0.5\n",
    "\n",
    "#Number of inputs defined\n",
    "NUM_IN = (IMAG_X**2)\n",
    "\n",
    "#Number of classifications\n",
    "y_out_clss = 2\n",
    "\n",
    "#Size of batch\n",
    "BatchSize = 2"
   ]
  },
  {
   "cell_type": "code",
   "execution_count": 78,
   "metadata": {
    "collapsed": false,
    "deletable": true,
    "editable": true
   },
   "outputs": [],
   "source": [
    "#Import data\n",
    "def ImportImages(path):\n",
    "    \"\"\"\n",
    "    def ImportImages(path):\n",
    "    USES VARIABLES: IMAG_X, IMAG_Y, expects these to be set already.\n",
    "    If prefered, edit code to pass them as arguments.\n",
    "    ________________________________________________________________\n",
    "    Function Outline:\n",
    "    1. Loads list of images from the path variable (type string).\n",
    "    2. Iterates through directory loads image into I/O file stream.\n",
    "    3. Converts file to LA grey scale and resizes.\n",
    "    4. Casts the image data into Numpy array.\n",
    "    5. Returns Numpy array object.\n",
    "    \"\"\"\n",
    "\n",
    "    imagesList = listdir(path)\n",
    "    \n",
    "    loadedImages = []\n",
    "    \n",
    "    loadedLabels = []\n",
    "  \n",
    "    new_size = IMAG_X, IMAG_X\n",
    "    \n",
    "    for image in imagesList:\n",
    "     \n",
    "        img = PImage.open(path +'/'+ image)\n",
    "        #Pull file name from current image- use it as a label\n",
    "        loadedLabels.append(opath.splitext(image)[0])\n",
    "        img.load()\n",
    "        #Resize step- ensures that all images follow.\n",
    "        img.thumbnail(new_size, PImage.ANTIALIAS )\n",
    "        loadedImages = np.asarray( img, dtype=\"int32\" )\n",
    "    return loadedImages, loadedLabels"
   ]
  },
  {
   "cell_type": "code",
   "execution_count": 79,
   "metadata": {
    "collapsed": true,
    "deletable": true,
    "editable": true
   },
   "outputs": [],
   "source": [
    "def shape_up_X(train_X, IMAG_X):\n",
    "    \"\"\"\n",
    "    shape_up_X(train_X, IMAG_X):\n",
    "    \n",
    "    Expects a 3D numpy array train_X with \n",
    "    dimensions (width_val, height_val, image#).\n",
    "    Must be square matrix with and height being\n",
    "    equal.\n",
    "    Returns new_X which is a reshaped train_X\n",
    "    of type numpy array.\n",
    "    ____________________________________\n",
    "    Dimensions are (pixels, image#). The\n",
    "    size of the pixels dimension is taken from\n",
    "    the square of IMAG_X. The number of images are found\n",
    "    by taking the length of the third column.\n",
    "    \"\"\"\n",
    "    num_exs = len(train_X[0,0,:])\n",
    "    new_X = train_X.reshape((IMAG_X**2, num_exs ))\n",
    "    return new_X"
   ]
  },
  {
   "cell_type": "code",
   "execution_count": 80,
   "metadata": {
    "collapsed": false,
    "deletable": true,
    "editable": true
   },
   "outputs": [],
   "source": [
    "def create_batch(train_X, train_Y, start, batch_size):\n",
    "    \"\"\"\n",
    "    def create_batch(train_X, batch_size):\n",
    "    __________________________________________\n",
    "    Function Outline:\n",
    "    1.Checks to see if batch is too large.\n",
    "    2.Creates training subset of train_X and train_Y\n",
    "    \"\"\"\n",
    "    \n",
    "    if batch_size > len(train_X[0,:]):\n",
    "        print(\"Batch size can not be greater than total training examples.\")\n",
    "        batch_x, batch_y = np.zeros(1,2)\n",
    "    else:\n",
    "        end_batch = start+batch_size\n",
    "        for i in range (start,end_batch):\n",
    "            batch_x = train_X[i]\n",
    "            batch_y = train_Y[i]\n",
    "    return batch_x, batch_y"
   ]
  },
  {
   "cell_type": "code",
   "execution_count": 81,
   "metadata": {
    "collapsed": false,
    "deletable": true,
    "editable": true
   },
   "outputs": [
    {
     "name": "stdout",
     "output_type": "stream",
     "text": [
      "(10, 10, 3)\n",
      "['face0001', 'face0002', 'notface0001', 'notface0002']\n"
     ]
    }
   ],
   "source": [
    "train_X, train_Y = ImportImages(path)\n",
    "print(train_X.shape)\n",
    "print(train_Y)\n",
    "#train_X = shape_up_X(train_X,IMAG_X)\n",
    "#Num_to_Train = len(train_X)"
   ]
  },
  {
   "cell_type": "code",
   "execution_count": 82,
   "metadata": {
    "collapsed": true,
    "deletable": true,
    "editable": true
   },
   "outputs": [],
   "source": [
    "#The x_input_layer and y_output_layer values are placeholders for the model that accept the flattened image (x) \n",
    "#and then the ouput of theclassifications (y). \n",
    "#\n",
    "x_input_layer = tf.placeholder(tf.float32, shape= [None, NUM_IN])\n",
    "y_output_layer = tf.placeholder(tf.float32, shape= [None, y_out_clss])\n",
    "\n",
    "\n",
    "#The vectors for weights and b- the bias will be defined as variables for training later.\n",
    "\n",
    "Weights = tf.Variable(tf.zeros([NUM_IN, y_out_clss]))\n",
    "b = tf.Variable(tf.zeros([y_out_clss]))"
   ]
  },
  {
   "cell_type": "code",
   "execution_count": 83,
   "metadata": {
    "collapsed": true,
    "deletable": true,
    "editable": true
   },
   "outputs": [],
   "source": [
    "#Outline of the model based on the probabilities calculated plus bias values.\n",
    "\n",
    "y_model = tf.matmul(x_input_layer, Weights) + b"
   ]
  },
  {
   "cell_type": "code",
   "execution_count": 84,
   "metadata": {
    "collapsed": true,
    "deletable": true,
    "editable": true
   },
   "outputs": [],
   "source": [
    "#This is where the train steps happens. Cross entropy is calculated by running the current model and then running \n",
    "#gradient decent. Training step stores results from the gradient descent minimizing cost function (cross_entropy).\n",
    "\n",
    "\n",
    "cross_entropy = tf.reduce_mean(tf.nn.softmax_cross_entropy_with_logits(labels = y_output_layer, logits = y_model))\n",
    "\n",
    "train_step = tf.train.GradientDescentOptimizer(alpha).minimize(cross_entropy)"
   ]
  },
  {
   "cell_type": "code",
   "execution_count": 85,
   "metadata": {
    "collapsed": true,
    "deletable": true,
    "editable": true
   },
   "outputs": [],
   "source": [
    "#Init session and global variables\n",
    "sess = tf.InteractiveSession()\n",
    "sess.run(tf.global_variables_initializer())"
   ]
  },
  {
   "cell_type": "code",
   "execution_count": 86,
   "metadata": {
    "collapsed": false,
    "deletable": true,
    "editable": true
   },
   "outputs": [
    {
     "name": "stdout",
     "output_type": "stream",
     "text": [
      "[[172 172 172]\n",
      " [173 173 173]\n",
      " [130 130 130]\n",
      " [ 78  78  78]\n",
      " [ 76  76  76]\n",
      " [141 141 141]\n",
      " [128 128 128]\n",
      " [ 56  56  56]\n",
      " [ 32  32  32]\n",
      " [120 120 120]] face0002\n",
      "[[135 135 135]\n",
      " [130 130 130]\n",
      " [137 137 137]\n",
      " [188 188 188]\n",
      " [143 143 143]\n",
      " [107 107 107]\n",
      " [107 107 107]\n",
      " [112 112 112]\n",
      " [124 124 124]\n",
      " [ 93  93  93]] notface0002\n"
     ]
    },
    {
     "ename": "IndexError",
     "evalue": "list index out of range",
     "output_type": "error",
     "traceback": [
      "\u001b[0;31m---------------------------------------------------------------------------\u001b[0m",
      "\u001b[0;31mIndexError\u001b[0m                                Traceback (most recent call last)",
      "\u001b[0;32m<ipython-input-86-d6d21c6f2224>\u001b[0m in \u001b[0;36m<module>\u001b[0;34m()\u001b[0m\n\u001b[1;32m      7\u001b[0m     \u001b[0;32mfor\u001b[0m \u001b[0mstart\u001b[0m \u001b[0;32min\u001b[0m \u001b[0mrange\u001b[0m\u001b[0;34m(\u001b[0m\u001b[0;36m0\u001b[0m\u001b[0;34m,\u001b[0m \u001b[0mNum_to_Train\u001b[0m\u001b[0;34m,\u001b[0m \u001b[0mBatchSize\u001b[0m\u001b[0;34m)\u001b[0m\u001b[0;34m:\u001b[0m\u001b[0;34m\u001b[0m\u001b[0m\n\u001b[1;32m      8\u001b[0m         \u001b[0mend\u001b[0m \u001b[0;34m=\u001b[0m \u001b[0mstart\u001b[0m \u001b[0;34m+\u001b[0m \u001b[0mBatchSize\u001b[0m\u001b[0;34m\u001b[0m\u001b[0m\n\u001b[0;32m----> 9\u001b[0;31m         \u001b[0mbatch_x\u001b[0m\u001b[0;34m,\u001b[0m \u001b[0mbatch_y\u001b[0m \u001b[0;34m=\u001b[0m \u001b[0mcreate_batch\u001b[0m\u001b[0;34m(\u001b[0m\u001b[0mtrain_X\u001b[0m\u001b[0;34m,\u001b[0m \u001b[0mtrain_Y\u001b[0m\u001b[0;34m,\u001b[0m \u001b[0mstart\u001b[0m\u001b[0;34m,\u001b[0m \u001b[0mBatchSize\u001b[0m\u001b[0;34m)\u001b[0m\u001b[0;34m\u001b[0m\u001b[0m\n\u001b[0m\u001b[1;32m     10\u001b[0m         \u001b[0mprint\u001b[0m\u001b[0;34m(\u001b[0m\u001b[0mbatch_x\u001b[0m\u001b[0;34m,\u001b[0m \u001b[0mbatch_y\u001b[0m\u001b[0;34m)\u001b[0m\u001b[0;34m\u001b[0m\u001b[0m\n\u001b[1;32m     11\u001b[0m     \u001b[0;31m#train_step.run(feed_dict={x: batch_x, y_: batch_y})\u001b[0m\u001b[0;34m\u001b[0m\u001b[0;34m\u001b[0m\u001b[0m\n",
      "\u001b[0;32m<ipython-input-80-f7b42a84c0bc>\u001b[0m in \u001b[0;36mcreate_batch\u001b[0;34m(train_X, train_Y, start, batch_size)\u001b[0m\n\u001b[1;32m     15\u001b[0m         \u001b[0;32mfor\u001b[0m \u001b[0mi\u001b[0m \u001b[0;32min\u001b[0m \u001b[0mrange\u001b[0m \u001b[0;34m(\u001b[0m\u001b[0mstart\u001b[0m\u001b[0;34m,\u001b[0m\u001b[0mend_batch\u001b[0m\u001b[0;34m)\u001b[0m\u001b[0;34m:\u001b[0m\u001b[0;34m\u001b[0m\u001b[0m\n\u001b[1;32m     16\u001b[0m             \u001b[0mbatch_x\u001b[0m \u001b[0;34m=\u001b[0m \u001b[0mtrain_X\u001b[0m\u001b[0;34m[\u001b[0m\u001b[0mi\u001b[0m\u001b[0;34m]\u001b[0m\u001b[0;34m\u001b[0m\u001b[0m\n\u001b[0;32m---> 17\u001b[0;31m             \u001b[0mbatch_y\u001b[0m \u001b[0;34m=\u001b[0m \u001b[0mtrain_Y\u001b[0m\u001b[0;34m[\u001b[0m\u001b[0mi\u001b[0m\u001b[0;34m]\u001b[0m\u001b[0;34m\u001b[0m\u001b[0m\n\u001b[0m\u001b[1;32m     18\u001b[0m     \u001b[0;32mreturn\u001b[0m \u001b[0mbatch_x\u001b[0m\u001b[0;34m,\u001b[0m \u001b[0mbatch_y\u001b[0m\u001b[0;34m\u001b[0m\u001b[0m\n",
      "\u001b[0;31mIndexError\u001b[0m: list index out of range"
     ]
    }
   ],
   "source": [
    "#Training block\n",
    "for i in range(10): #Outside train loop\n",
    "    \n",
    "    #p = np.random.permutation(range(Num_to_Train))\n",
    "    #train_X, train_Y = train_X[p], train_Y[p]\n",
    "    \n",
    "    for start in range(0, Num_to_Train, BatchSize):\n",
    "        end = start + BatchSize\n",
    "        batch_x, batch_y = create_batch(train_X, train_Y, start, BatchSize)\n",
    "        print(batch_x, batch_y)\n",
    "    #train_step.run(feed_dict={x: batch_x, y_: batch_y}) "
   ]
  }
 ],
 "metadata": {
  "kernelspec": {
   "display_name": "Python 3",
   "language": "python",
   "name": "python3"
  },
  "language_info": {
   "codemirror_mode": {
    "name": "ipython",
    "version": 3
   },
   "file_extension": ".py",
   "mimetype": "text/x-python",
   "name": "python",
   "nbconvert_exporter": "python",
   "pygments_lexer": "ipython3",
   "version": "3.6.0"
  }
 },
 "nbformat": 4,
 "nbformat_minor": 2
}
