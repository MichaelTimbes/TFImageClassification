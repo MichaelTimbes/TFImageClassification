{
 "cells": [
  {
   "cell_type": "code",
   "execution_count": 1,
   "metadata": {
    "collapsed": true,
    "deletable": true,
    "editable": true
   },
   "outputs": [],
   "source": [
    "# Convolutional Network for Image Classification\n",
    "# Michael Timbes"
   ]
  },
  {
   "cell_type": "code",
   "execution_count": 2,
   "metadata": {
    "collapsed": true,
    "deletable": true,
    "editable": true
   },
   "outputs": [],
   "source": [
    "import tensorflow as tf\n",
    "import imageprep"
   ]
  },
  {
   "cell_type": "code",
   "execution_count": 3,
   "metadata": {
    "collapsed": true
   },
   "outputs": [],
   "source": [
    "train_path = 'NotFace'\n",
    "test_path = 'test_set'\n",
    "\n",
    "IMAG_X = 100\n",
    "\n",
    "# Keys\n",
    "keyA = 'face' #True Class\n",
    "keyB = 'notface' #False Class"
   ]
  },
  {
   "cell_type": "code",
   "execution_count": 4,
   "metadata": {
    "collapsed": false,
    "deletable": true,
    "editable": true
   },
   "outputs": [
    {
     "name": "stdout",
     "output_type": "stream",
     "text": [
      "(123, 100, 100, 1)\n"
     ]
    }
   ],
   "source": [
    "# Data Import\n",
    "training_images, training_labels, training_original = imageprep.ImportImages(train_path, IMAG_X, IMAG_X, keyA, keyB)\n",
    "\n",
    "# Data Convert\n",
    "training_images = imageprep.shape_up_X(training_images,IMAG_X)\n",
    "training_images.astype(float);\n",
    "print(training_images.shape)"
   ]
  },
  {
   "cell_type": "code",
   "execution_count": 7,
   "metadata": {
    "collapsed": false,
    "deletable": true,
    "editable": true
   },
   "outputs": [],
   "source": [
    "# Layer 1\n",
    "\n",
    "W_conv1 = imageprep.weight_variable([5, 5, 1, 32])\n",
    "b_conv1 = imageprep.bias_variable([32])\n",
    "\n",
    "# Convolution of Layer 1\n",
    "h_conv1 = tf.nn.relu(imageprep.conv2d(training_images, W_conv1) + b_conv1)\n",
    "h_pool1 = imageprep.max_pool_2x2(h_conv1)"
   ]
  },
  {
   "cell_type": "code",
   "execution_count": 8,
   "metadata": {
    "collapsed": false,
    "deletable": true,
    "editable": true
   },
   "outputs": [],
   "source": [
    "# Connected Layer\n",
    "W_fc1 = imageprep.weight_variable([50 * 50 * 32, 64])\n",
    "b_fc1 = imageprep.bias_variable([64])\n",
    "\n",
    "h_pool2_flat = tf.reshape(h_pool1, [-1, 50* 50* 32])\n",
    "h_fc1 = tf.nn.relu(tf.matmul(h_pool2_flat, W_fc1) + b_fc1)"
   ]
  },
  {
   "cell_type": "code",
   "execution_count": 9,
   "metadata": {
    "collapsed": true,
    "deletable": true,
    "editable": true
   },
   "outputs": [],
   "source": [
    "# Output Layer\n",
    "W_fc2 = imageprep.weight_variable([64, 2])\n",
    "b_fc2 = imageprep.bias_variable([2])\n",
    "\n",
    "y_conv = tf.matmul(h_fc1, W_fc2) + b_fc2"
   ]
  },
  {
   "cell_type": "code",
   "execution_count": null,
   "metadata": {
    "collapsed": false,
    "deletable": true,
    "editable": true
   },
   "outputs": [],
   "source": [
    "# Set Up Training\n",
    "#cross_entropy = tf.reduce_mean(tf.nn.softmax_cross_entropy_with_logits(labels=y_, logits=y_conv))"
   ]
  }
 ],
 "metadata": {
  "kernelspec": {
   "display_name": "Python 3",
   "language": "python",
   "name": "python3"
  },
  "language_info": {
   "codemirror_mode": {
    "name": "ipython",
    "version": 3
   },
   "file_extension": ".py",
   "mimetype": "text/x-python",
   "name": "python",
   "nbconvert_exporter": "python",
   "pygments_lexer": "ipython3",
   "version": "3.4.2"
  }
 },
 "nbformat": 4,
 "nbformat_minor": 2
}
