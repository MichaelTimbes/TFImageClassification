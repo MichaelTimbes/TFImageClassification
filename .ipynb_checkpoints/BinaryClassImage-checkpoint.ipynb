{
 "cells": [
  {
   "cell_type": "code",
   "execution_count": 31,
   "metadata": {
    "collapsed": true,
    "deletable": true,
    "editable": true
   },
   "outputs": [],
   "source": [
    "#Michael Timbes\n",
    "#Purpose:\n",
    "#Image_Classification Based on Logistic classification model. Single hidden layer, does not use convolutional layers\n",
    "#does not use pooling."
   ]
  },
  {
   "cell_type": "code",
   "execution_count": 32,
   "metadata": {
    "collapsed": false,
    "deletable": true,
    "editable": true
   },
   "outputs": [],
   "source": [
    "import tensorflow as tf\n",
    "import numpy as np\n",
    "#Visualization\n",
    "import matplotlib.pyplot as plt\n",
    "#File import\n",
    "from os import listdir\n",
    "from os import path as opath\n",
    "from PIL import Image as PImage"
   ]
  },
  {
   "cell_type": "code",
   "execution_count": 33,
   "metadata": {
    "collapsed": false,
    "deletable": true,
    "editable": true
   },
   "outputs": [],
   "source": [
    "#Path of train images\n",
    "train_path = ('train_set')\n",
    "#Path of test images\n",
    "test_path = ('images')\n",
    "#Dimension of image\n",
    "IMAG_X = 10\n",
    "\n",
    "#Trainig rate alpha\n",
    "alpha = 0.5\n",
    "\n",
    "#Number of inputs defined\n",
    "NUM_IN = (IMAG_X**2)\n",
    "\n",
    "#Number of classifications\n",
    "y_out_clss = 2\n",
    "keyA = 'face' #True Class\n",
    "keyB = 'notface' #False Class\n",
    "\n",
    "#Size of batch\n",
    "BatchSize = 2"
   ]
  },
  {
   "cell_type": "code",
   "execution_count": 34,
   "metadata": {
    "collapsed": false,
    "deletable": true,
    "editable": true
   },
   "outputs": [],
   "source": [
    "#Import data\n",
    "def ImportImages(path):\n",
    "    \"\"\"\n",
    "    def ImportImages(path):\n",
    "    USES VARIABLES: IMAG_X, IMAG_Y, expects these to be set already.\n",
    "    If prefered, edit code to pass them as arguments.\n",
    "    ________________________________________________________________\n",
    "    Function Outline:\n",
    "    1. Loads list of images from the path variable (type string).\n",
    "    2. Iterates through directory loads image into I/O file stream.\n",
    "    3. Converts file Numpy array.\n",
    "    4. Reads labels and converts to binary class.\n",
    "    5. Returns Numpy array objects for images and labels.\n",
    "    \"\"\"\n",
    "\n",
    "    imagesList = listdir(path)\n",
    "    \n",
    "    loadedImages = []\n",
    "    \n",
    "    loadedLabels = []\n",
    "  \n",
    "    new_size = IMAG_X, IMAG_X\n",
    "    \n",
    "    for image in imagesList:\n",
    "     \n",
    "        img = PImage.open(path +'/'+ image)\n",
    "        # Pull file name from current image- use it as a label\n",
    "        loadedLabels.append(opath.splitext(image)[0])\n",
    "        img.load()\n",
    "        # Resize step- ensures that all images follow.\n",
    "        img.thumbnail(new_size, PImage.ANTIALIAS )\n",
    "        loadedImages = np.asarray( img, dtype=\"int32\" )\n",
    "        \n",
    "    # Convert to Binary Classification.\n",
    "    for i in range(0,len(loadedLabels)):\n",
    "        if (keyA in loadedLabels[i] and not(keyB in loadedLabels[i]) ):\n",
    "            loadedLabels[i] = [1, 0]\n",
    "        else:\n",
    "            loadedLabels[i] = [0, 1]\n",
    "    \n",
    "    return loadedImages, np.asarray(loadedLabels)"
   ]
  },
  {
   "cell_type": "code",
   "execution_count": 35,
   "metadata": {
    "collapsed": true,
    "deletable": true,
    "editable": true
   },
   "outputs": [],
   "source": [
    "def shape_up_(data, IMAG_X):\n",
    "    \"\"\"\n",
    "    shape_up_X(train_X, IMAG_X):\n",
    "    \n",
    "    Expects a 3D numpy array train_X with \n",
    "    dimensions (width_val, height_val, image#).\n",
    "    Must be square matrix with and height being\n",
    "    equal.\n",
    "    Returns new_X which is a reshaped train_X\n",
    "    of type numpy array.\n",
    "    ____________________________________\n",
    "    Dimensions are (pixels, image#). The\n",
    "    size of the pixels dimension is taken from\n",
    "    the square of IMAG_X. The number of images are found\n",
    "    by taking the length of the third column.\n",
    "    \"\"\"\n",
    "    num_exs = len(train_X[0,0,:])\n",
    "    new_X = train_X.reshape((num_exs , IMAG_X**2))\n",
    "    new_X.flatten('C')\n",
    "    return new_X"
   ]
  },
  {
   "cell_type": "code",
   "execution_count": 36,
   "metadata": {
    "collapsed": false,
    "deletable": true,
    "editable": true
   },
   "outputs": [],
   "source": [
    "def create_batch(train_X, train_Y, start, batch_size):\n",
    "    \"\"\"\n",
    "    def create_batch(train_X, batch_size):\n",
    "    __________________________________________\n",
    "    Function Outline:\n",
    "    1.Creates training subset of train_X and train_Y\n",
    "    \"\"\"\n",
    "    # Everything in the row\n",
    "    batch_x = train_X[:,start:batch_size]\n",
    "    batch_y = train_Y[start:batch_size]\n",
    "    return batch_x, batch_y"
   ]
  },
  {
   "cell_type": "markdown",
   "metadata": {
    "deletable": true,
    "editable": true
   },
   "source": [
    "# Data Preparation\n",
    "* Import Images\n",
    "* Reshape Images\n",
    "* Final Array Should Be:\n",
    "$$train_{x} = \\begin{pmatrix} \n",
    "[Picture Array_{MxM}] , & [Num Examples]\\\\\n",
    "\\end{pmatrix}$$\n",
    "$$train_{y} = \\begin{pmatrix} \n",
    "Class_{1} & Class_{2} & \\cdots & Class_{n}\\\\\n",
    "\\end{pmatrix}$$\n",
    "Where the $Class_{n}$ is either a 1 for the true class or 0 for the false class."
   ]
  },
  {
   "cell_type": "code",
   "execution_count": 45,
   "metadata": {
    "collapsed": false,
    "deletable": true,
    "editable": true
   },
   "outputs": [
    {
     "name": "stdout",
     "output_type": "stream",
     "text": [
      "3\n"
     ]
    },
    {
     "data": {
      "text/plain": [
       "array([166, 166, 166, 165, 165, 165, 156, 156, 156, 111, 111, 111,  80,\n",
       "        80,  80, 134, 134, 134, 146, 146, 146,  95,  95,  95, 131, 131,\n",
       "       131, 115, 115, 115, 172, 172, 172, 173, 173, 173, 130, 130, 130,\n",
       "        78,  78,  78,  76,  76,  76, 141, 141, 141, 128, 128, 128,  56,\n",
       "        56,  56,  32,  32,  32, 120, 120, 120, 132, 132, 132, 129, 129,\n",
       "       129, 142, 142, 142, 130, 130, 130, 120, 120, 120, 111, 111, 111,\n",
       "        56,  56,  56,  14,  14,  14,  45,  45,  45,  92,  92,  92, 135,\n",
       "       135, 135, 130, 130, 130, 137, 137, 137, 188], dtype=int32)"
      ]
     },
     "execution_count": 45,
     "metadata": {},
     "output_type": "execute_result"
    }
   ],
   "source": [
    "#Training Data Preparation\n",
    "train_X, train_Y = ImportImages(train_path)\n",
    "m = len(train_X[0,0,:])\n",
    "#m = len(train_X)\n",
    "print(m)\n",
    "train_X = shape_up_(train_X,IMAG_X)\n",
    "# Showing the shape of train_X\n",
    "train_X[0,:]"
   ]
  },
  {
   "cell_type": "code",
   "execution_count": 44,
   "metadata": {
    "collapsed": false,
    "deletable": true,
    "editable": true
   },
   "outputs": [
    {
     "name": "stdout",
     "output_type": "stream",
     "text": [
      "(6, 10, 3)\n",
      "(8, 2)\n"
     ]
    }
   ],
   "source": [
    "#Testing Data Preparation \n",
    "test_x, test_y = ImportImages(test_path)\n",
    "#test_x = shape_up_(test_x,IMAG_X)\n",
    "print(test_x.shape)\n",
    "print(test_y.shape)"
   ]
  },
  {
   "cell_type": "markdown",
   "metadata": {
    "deletable": true,
    "editable": true
   },
   "source": [
    "# Build Logistic Model\n",
    "## Input Layer\n",
    "Dimension for $X$ is $1xN$. For Tensorflow, x_input_layer as a placeholder must be at least a 1-D vector but can support $MxN$ so a 'None' type is used to be more dynamic. To ensure the matrix multiplication is not an issue be sure that the weight layer and X layer are $Nx1$ and $1xN$. \n",
    "\\begin{equation}\n",
    "    \\begin{pmatrix}\n",
    "    x_{0} \\\\\n",
    "    x_{1} \\\\\n",
    "    \\vdots \\\\\n",
    "    x_{n}\n",
    "    \\end{pmatrix}\n",
    "\\end{equation}\n",
    "## Weights\n",
    "\\begin{equation}\n",
    "    \\begin{pmatrix}\n",
    "    \\theta_{0} & \\theta_{1} & \\cdots & \\theta{n} \\\\\n",
    "     & & \\vdots & \\\\\n",
    "     \\theta_{0} & \\theta_{1} & \\cdots & \\theta{n} \\\\\n",
    "    \\end{pmatrix}\n",
    "\\end{equation}\n",
    "\n",
    "## Output Layer\n",
    "Below is for multi-class in this application where there are $\\theta_{n}$ classes.\n",
    "\\begin{equation}\n",
    "h_{\\theta}(x) = \n",
    "\\begin{pmatrix}\n",
    "    \\theta_{0} & \\theta_{1} & \\cdots & \\theta{n} \\\\\n",
    "     & & \\vdots & \\\\\n",
    "     \\theta_{0} & \\theta_{1} & \\cdots & \\theta{n} \\\\\n",
    "    \\end{pmatrix}\n",
    "    \\begin{pmatrix}\n",
    "    x_{0} \\\\\n",
    "    x_{1} \\\\\n",
    "    \\vdots \\\\\n",
    "    x_{n}\n",
    "    \\end{pmatrix} =\n",
    "     \\begin{pmatrix}\n",
    "    y_{0} \\\\\n",
    "    y_{1} \\\\\n",
    "    \\vdots \\\\\n",
    "    y_{m}\n",
    "    \\end{pmatrix}\n",
    "\\end{equation}"
   ]
  },
  {
   "cell_type": "code",
   "execution_count": 39,
   "metadata": {
    "collapsed": false,
    "deletable": true,
    "editable": true
   },
   "outputs": [],
   "source": [
    "#The x_input_layer and y_output_layer values are placeholders for the model that accept the flattened image (x) \n",
    "#and then the ouput of theclassifications (y). \n",
    "#\n",
    "x_input_layer = tf.placeholder(tf.float32, shape=[None, NUM_IN]) \n",
    "y_output_layer = tf.placeholder(tf.float32, shape= [None, y_out_clss])\n",
    "\n",
    "\n",
    "#The vectors for weights and b- the bias will be defined as variables for training later.\n",
    "\n",
    "Weights = tf.Variable(tf.zeros([NUM_IN, y_out_clss]))\n",
    "b = tf.Variable(tf.zeros([y_out_clss]))"
   ]
  },
  {
   "cell_type": "code",
   "execution_count": 40,
   "metadata": {
    "collapsed": false,
    "deletable": true,
    "editable": true
   },
   "outputs": [],
   "source": [
    "#Outline of the model based on the probabilities calculated plus bias values.\n",
    "\n",
    "y = tf.matmul(x_input_layer, Weights) + b"
   ]
  },
  {
   "cell_type": "markdown",
   "metadata": {
    "deletable": true,
    "editable": true
   },
   "source": [
    "# Cross Entropy\n",
    "## Cost Function\n",
    "\\begin{equation}\n",
    "J(\\theta)= -\\frac{1}{m}\\sum_{i=1}^{m} y_{i}log(h_{\\theta}(x_{i}))+\n",
    "\t\t\t\t\t\t\t\t\t  (1-y_{i})log(1-h_{\\theta}(x_{i}))\n",
    "\\end{equation}\n",
    "## Minimize Cost-Gradient Descent\n",
    "\\begin{equation}\n",
    "\\theta_{j} = \\theta_{j}-\\alpha\\frac{1}{m}\\sum_{i=1}^{m}\\left((h_{\\theta}(x_{i})-y_{i})X_{ji}\\right)\n",
    "\\end{equation}"
   ]
  },
  {
   "cell_type": "code",
   "execution_count": 41,
   "metadata": {
    "collapsed": true,
    "deletable": true,
    "editable": true
   },
   "outputs": [],
   "source": [
    "#This is where the train steps happens. Cross entropy is calculated by running the current model and then running \n",
    "#gradient decent. Training step stores results from the gradient descent minimizing cost function (cross_entropy).\n",
    "\n",
    "\n",
    "cross_entropy = tf.reduce_mean(tf.nn.softmax_cross_entropy_with_logits(labels = y_output_layer, logits = y))\n",
    "\n",
    "train_step = tf.train.GradientDescentOptimizer(alpha).minimize(cross_entropy)"
   ]
  },
  {
   "cell_type": "code",
   "execution_count": 42,
   "metadata": {
    "collapsed": false,
    "deletable": true,
    "editable": true
   },
   "outputs": [],
   "source": [
    "#Init session and global variables\n",
    "sess = tf.InteractiveSession()\n",
    "sess.run(tf.global_variables_initializer())\n",
    "#Design batch variables- ensure dimension\n",
    "x_batch = np.ones((1, NUM_IN))\n",
    "y_batch = np.ones((1, 2))"
   ]
  },
  {
   "cell_type": "code",
   "execution_count": 43,
   "metadata": {
    "collapsed": false,
    "deletable": true,
    "editable": true
   },
   "outputs": [
    {
     "ename": "IndexError",
     "evalue": "index 3 is out of bounds for axis 0 with size 3",
     "output_type": "error",
     "traceback": [
      "\u001b[0;31m---------------------------------------------------------------------------\u001b[0m",
      "\u001b[0;31mIndexError\u001b[0m                                Traceback (most recent call last)",
      "\u001b[0;32m<ipython-input-43-bdfcdb038291>\u001b[0m in \u001b[0;36m<module>\u001b[0;34m()\u001b[0m\n\u001b[1;32m      2\u001b[0m \u001b[0;32mfor\u001b[0m \u001b[0mi\u001b[0m \u001b[0;32min\u001b[0m \u001b[0mrange\u001b[0m\u001b[0;34m(\u001b[0m\u001b[0;36m400\u001b[0m\u001b[0;34m)\u001b[0m\u001b[0;34m:\u001b[0m \u001b[0;31m#Outside train loop\u001b[0m\u001b[0;34m\u001b[0m\u001b[0m\n\u001b[1;32m      3\u001b[0m      \u001b[0;32mfor\u001b[0m \u001b[0mj\u001b[0m \u001b[0;32min\u001b[0m \u001b[0mrange\u001b[0m\u001b[0;34m(\u001b[0m\u001b[0;36m0\u001b[0m\u001b[0;34m,\u001b[0m\u001b[0mm\u001b[0m\u001b[0;34m)\u001b[0m\u001b[0;34m:\u001b[0m\u001b[0;34m\u001b[0m\u001b[0m\n\u001b[0;32m----> 4\u001b[0;31m             \u001b[0mx_batch\u001b[0m\u001b[0;34m[\u001b[0m\u001b[0;36m0\u001b[0m\u001b[0;34m,\u001b[0m\u001b[0;34m:\u001b[0m\u001b[0;34m]\u001b[0m \u001b[0;34m=\u001b[0m \u001b[0mtrain_X\u001b[0m\u001b[0;34m[\u001b[0m\u001b[0mj\u001b[0m\u001b[0;34m,\u001b[0m\u001b[0;34m:\u001b[0m\u001b[0;34m]\u001b[0m\u001b[0;34m\u001b[0m\u001b[0m\n\u001b[0m\u001b[1;32m      5\u001b[0m             \u001b[0;31m#print(\"EXAMPLE\",j)\u001b[0m\u001b[0;34m\u001b[0m\u001b[0;34m\u001b[0m\u001b[0m\n\u001b[1;32m      6\u001b[0m             \u001b[0;31m#print(x_batch)\u001b[0m\u001b[0;34m\u001b[0m\u001b[0;34m\u001b[0m\u001b[0m\n",
      "\u001b[0;31mIndexError\u001b[0m: index 3 is out of bounds for axis 0 with size 3"
     ]
    }
   ],
   "source": [
    "#Training Block:\n",
    "for i in range(400): #Outside train loop\n",
    "     for j in range(0,m):\n",
    "            x_batch[0,:] = train_X[j,:]\n",
    "            #print(\"EXAMPLE\",j)\n",
    "            #print(x_batch)\n",
    "            y_batch[0,:] = train_Y[j]\n",
    "            train_step.run(feed_dict={x_input_layer: x_batch, y_output_layer: y_batch})\n",
    "print(\"DONE.\")"
   ]
  },
  {
   "cell_type": "code",
   "execution_count": null,
   "metadata": {
    "collapsed": false,
    "deletable": true,
    "editable": true
   },
   "outputs": [],
   "source": [
    "#Test Block:\n",
    "\n",
    "correct_prediction = tf.equal(tf.argmax(y,1), tf.argmax(y_output_layer,1)) \n",
    "accuracy = tf.reduce_mean(tf.cast(correct_prediction, tf.float32))\n",
    "for j in range(0,m):\n",
    "    x_batch[0,:] = train_X[j,:]\n",
    "    y_batch[0,:] = train_Y[j]\n",
    "    print(accuracy.eval(feed_dict={x_input_layer: x_batch, y_output_layer: y_batch}))"
   ]
  }
 ],
 "metadata": {
  "kernelspec": {
   "display_name": "Python 3",
   "language": "python",
   "name": "python3"
  },
  "language_info": {
   "codemirror_mode": {
    "name": "ipython",
    "version": 3
   },
   "file_extension": ".py",
   "mimetype": "text/x-python",
   "name": "python",
   "nbconvert_exporter": "python",
   "pygments_lexer": "ipython3",
   "version": "3.6.0"
  }
 },
 "nbformat": 4,
 "nbformat_minor": 2
}
