{
 "cells": [
  {
   "cell_type": "code",
   "execution_count": 15,
   "metadata": {
    "collapsed": true,
    "deletable": true,
    "editable": true
   },
   "outputs": [],
   "source": [
    "#Michael Timbes\n",
    "#Purpose:\n",
    "#Image_Classification Based on Logistic classification model. Single hidden layer, does not use convolutional layers\n",
    "#does not use pooling."
   ]
  },
  {
   "cell_type": "code",
   "execution_count": 16,
   "metadata": {
    "collapsed": false,
    "deletable": true,
    "editable": true
   },
   "outputs": [],
   "source": [
    "import tensorflow as tf\n",
    "import numpy as np\n",
    "#Visualization\n",
    "import matplotlib.pyplot as plt\n",
    "#File import\n",
    "from os import listdir\n",
    "from os import path as opath\n",
    "from PIL import Image as PImage"
   ]
  },
  {
   "cell_type": "code",
   "execution_count": 17,
   "metadata": {
    "collapsed": false,
    "deletable": true,
    "editable": true
   },
   "outputs": [],
   "source": [
    "#Path of train images\n",
    "train_path = ('train_set')\n",
    "#Path of test images\n",
    "test_path = ('test_set')\n",
    "#Dimension of image\n",
    "IMAG_X = 100\n",
    "\n",
    "#Trainig rate alpha\n",
    "alpha = 0.5\n",
    "\n",
    "#Number of inputs defined\n",
    "NUM_IN = (IMAG_X**2)\n",
    "\n",
    "#Number of classifications\n",
    "y_out_clss = 2\n",
    "keyA = 'face' #True Class\n",
    "keyB = 'notface' #False Class\n",
    "\n",
    "#Size of batch\n",
    "BatchSize = 2"
   ]
  },
  {
   "cell_type": "code",
   "execution_count": 18,
   "metadata": {
    "collapsed": false,
    "deletable": true,
    "editable": true
   },
   "outputs": [],
   "source": [
    "#Import data\n",
    "def ImportImages(path):\n",
    "    \"\"\"\n",
    "    def ImportImages(path):\n",
    "    USES VARIABLES: IMAG_X, IMAG_Y, expects these to be set already.\n",
    "    If prefered, edit code to pass them as arguments. Images must be in \n",
    "    RGB space.\n",
    "    ________________________________________________________________\n",
    "    Function Outline:\n",
    "    1. Loads list of images from the path variable (type string).\n",
    "    2. Iterates through directory loads image into I/O file stream.\n",
    "    3. Converts file Numpy array.\n",
    "    4. Reads labels and converts to binary class.\n",
    "    5. Returns Numpy array objects for images and labels.\n",
    "    \"\"\"\n",
    "\n",
    "    imagesList = listdir(path)\n",
    "    \n",
    "    loadedImages = []\n",
    "    \n",
    "    loadedLabels = []\n",
    "  \n",
    "    new_size = IMAG_X, IMAG_X\n",
    "    \n",
    "    for image in imagesList:\n",
    "        if not(\".DS_Store\" in path +'/'+ image): #Issue in Mac File System\n",
    "            img = PImage.open(path +'/'+ image)\n",
    "            label = opath.splitext(image)[:]\n",
    "        # Pull file name from current image- use it as a label\n",
    "        \n",
    "            loadedLabels.append(label[0])\n",
    "            img.load()\n",
    "        # Resize step- ensures that all images follow.\n",
    "            #img.thumbnail(new_size, PImage.ANTIALIAS )\n",
    "            #img.convert('1')\n",
    "            #img.resize(new_size)\n",
    "            loadedImages.append(np.asarray( img, dtype=\"int32\" ))\n",
    "        \n",
    "    # Convert to Binary Classification.\n",
    "    for i in range(0,len(loadedLabels)):\n",
    "        if (keyA in loadedLabels[i] and not(keyB in loadedLabels[i]) ):\n",
    "            loadedLabels[i] = [1, 0]\n",
    "        else:\n",
    "            loadedLabels[i] = [0, 1]\n",
    "    \n",
    "    return np.asarray(loadedImages), np.asarray(loadedLabels)"
   ]
  },
  {
   "cell_type": "code",
   "execution_count": 19,
   "metadata": {
    "collapsed": false,
    "deletable": true,
    "editable": true
   },
   "outputs": [],
   "source": [
    "def shape_up_(data, IMAG_X):\n",
    "    \"\"\"\n",
    "    shape_up_X(train_X, IMAG_X):\n",
    "    \n",
    "    Expects a 3D numpy array train_X with \n",
    "    dimensions (width_val, height_val, image#).\n",
    "    Must be square matrix with and height being\n",
    "    equal.\n",
    "    Returns new_X which is a reshaped train_X\n",
    "    of type numpy array.\n",
    "    ____________________________________\n",
    "    Dimensions are (pixels, image#). The\n",
    "    size of the pixels dimension is taken from\n",
    "    the square of IMAG_X. The number of images are found\n",
    "    by taking the length of the third column.\n",
    "    \"\"\"\n",
    "    num_exs = len(data[:,0,0])\n",
    "    new_X= np.zeros((num_exs,IMAG_X**2))\n",
    "    for i in range(0,num_exs):\n",
    "        new_X[i,:] = data[i,:,:].reshape((1,IMAG_X**2))\n",
    "    #new_X.flatten('C')\n",
    "    #new_X = train_X.flatten('')\n",
    "    return new_X"
   ]
  },
  {
   "cell_type": "code",
   "execution_count": 20,
   "metadata": {
    "collapsed": false,
    "deletable": true,
    "editable": true
   },
   "outputs": [],
   "source": [
    "def create_batch(train_X, train_Y, start, batch_size):\n",
    "    \"\"\"\n",
    "    def create_batch(train_X, batch_size):\n",
    "    __________________________________________\n",
    "    Function Outline:\n",
    "    1.Creates training subset of train_X and train_Y\n",
    "    \"\"\"\n",
    "    # Everything in the row\n",
    "    batch_x = train_X[:,start:batch_size]\n",
    "    batch_y = train_Y[start:batch_size]\n",
    "    return batch_x, batch_y"
   ]
  },
  {
   "cell_type": "markdown",
   "metadata": {
    "deletable": true,
    "editable": true
   },
   "source": [
    "# Data Preparation\n",
    "* Import Images\n",
    "* Reshape Images\n",
    "* Final Array Should Be:\n",
    "$$train_{x} = \\begin{pmatrix} \n",
    "[Picture Array_{MxM}] , & [Num Examples]\\\\\n",
    "\\end{pmatrix}$$\n",
    "$$train_{y} = \\begin{pmatrix} \n",
    "Class_{1} & Class_{2} & \\cdots & Class_{n}\\\\\n",
    "\\end{pmatrix}$$\n",
    "Where the $Class_{n}$ is either a 1 for the true class or 0 for the false class."
   ]
  },
  {
   "cell_type": "code",
   "execution_count": 21,
   "metadata": {
    "collapsed": false,
    "deletable": true,
    "editable": true
   },
   "outputs": [
    {
     "name": "stdout",
     "output_type": "stream",
     "text": [
      "4\n",
      "(4, 10000)\n",
      "(4, 2)\n"
     ]
    }
   ],
   "source": [
    "#Training Data Preparation\n",
    "train_X, train_Y = ImportImages(train_path)\n",
    "#m = len(train_X[0,0,:])\n",
    "m = len(train_X)\n",
    "print(m)\n",
    "train_X = shape_up_(train_X,IMAG_X)\n",
    "# Showing the shape of train_X\n",
    "print(train_X.shape)\n",
    "print(train_Y.shape)"
   ]
  },
  {
   "cell_type": "code",
   "execution_count": 22,
   "metadata": {
    "collapsed": false,
    "deletable": true,
    "editable": true
   },
   "outputs": [
    {
     "name": "stdout",
     "output_type": "stream",
     "text": [
      "(8, 10000)\n",
      "(8, 2)\n"
     ]
    }
   ],
   "source": [
    "#Testing Data Preparation \n",
    "test_x, test_y = ImportImages(test_path)\n",
    "test_x = shape_up_(test_x,IMAG_X)\n",
    "print(test_x.shape)\n",
    "print(test_y.shape)"
   ]
  },
  {
   "cell_type": "markdown",
   "metadata": {
    "deletable": true,
    "editable": true
   },
   "source": [
    "# Build Logistic Model\n",
    "## Input Layer\n",
    "Dimension for $X$ is $1xN$. For Tensorflow, x_input_layer as a placeholder must be at least a 1-D vector but can support $MxN$ so a 'None' type is used to be more dynamic. To ensure the matrix multiplication is not an issue be sure that the weight layer and X layer are $Nx1$ and $1xN$. \n",
    "\\begin{equation}\n",
    "    \\begin{pmatrix}\n",
    "    x_{0} \\\\\n",
    "    x_{1} \\\\\n",
    "    \\vdots \\\\\n",
    "    x_{n}\n",
    "    \\end{pmatrix}\n",
    "\\end{equation}\n",
    "## Weights\n",
    "\\begin{equation}\n",
    "    \\begin{pmatrix}\n",
    "    \\theta_{0} & \\theta_{1} & \\cdots & \\theta{n} \\\\\n",
    "     & & \\vdots & \\\\\n",
    "     \\theta_{0} & \\theta_{1} & \\cdots & \\theta{n} \\\\\n",
    "    \\end{pmatrix}\n",
    "\\end{equation}\n",
    "\n",
    "## Output Layer\n",
    "Below is for multi-class in this application where there are $\\theta_{n}$ classes.\n",
    "\\begin{equation}\n",
    "h_{\\theta}(x) = \n",
    "\\begin{pmatrix}\n",
    "    \\theta_{0} & \\theta_{1} & \\cdots & \\theta{n} \\\\\n",
    "     & & \\vdots & \\\\\n",
    "     \\theta_{0} & \\theta_{1} & \\cdots & \\theta{n} \\\\\n",
    "    \\end{pmatrix}\n",
    "    \\begin{pmatrix}\n",
    "    x_{0} \\\\\n",
    "    x_{1} \\\\\n",
    "    \\vdots \\\\\n",
    "    x_{n}\n",
    "    \\end{pmatrix} =\n",
    "     \\begin{pmatrix}\n",
    "    y_{0} \\\\\n",
    "    y_{1} \\\\\n",
    "    \\vdots \\\\\n",
    "    y_{m}\n",
    "    \\end{pmatrix}\n",
    "\\end{equation}"
   ]
  },
  {
   "cell_type": "code",
   "execution_count": 23,
   "metadata": {
    "collapsed": false,
    "deletable": true,
    "editable": true
   },
   "outputs": [],
   "source": [
    "#The x_input_layer and y_output_layer values are placeholders for the model that accept the flattened image (x) \n",
    "#and then the ouput of theclassifications (y). \n",
    "#\n",
    "x_input_layer = tf.placeholder(tf.float32, shape=[None, NUM_IN]) \n",
    "y_output_layer = tf.placeholder(tf.float32, shape= [None, y_out_clss])\n",
    "\n",
    "\n",
    "#The vectors for weights and b- the bias will be defined as variables for training later.\n",
    "\n",
    "Weights = tf.Variable(tf.zeros([NUM_IN, y_out_clss]))\n",
    "b = tf.Variable(tf.zeros([y_out_clss]))"
   ]
  },
  {
   "cell_type": "code",
   "execution_count": 24,
   "metadata": {
    "collapsed": false,
    "deletable": true,
    "editable": true
   },
   "outputs": [],
   "source": [
    "#Outline of the model based on the probabilities calculated plus bias values.\n",
    "\n",
    "y = tf.matmul(x_input_layer, Weights) + b"
   ]
  },
  {
   "cell_type": "markdown",
   "metadata": {
    "deletable": true,
    "editable": true
   },
   "source": [
    "# Cross Entropy\n",
    "## Cost Function\n",
    "\\begin{equation}\n",
    "J(\\theta)= -\\frac{1}{m}\\sum_{i=1}^{m} y_{i}log(h_{\\theta}(x_{i}))+\n",
    "\t\t\t\t\t\t\t\t\t  (1-y_{i})log(1-h_{\\theta}(x_{i}))\n",
    "\\end{equation}\n",
    "## Minimize Cost-Gradient Descent\n",
    "\\begin{equation}\n",
    "\\theta_{j} = \\theta_{j}-\\alpha\\frac{1}{m}\\sum_{i=1}^{m}\\left((h_{\\theta}(x_{i})-y_{i})X_{ji}\\right)\n",
    "\\end{equation}"
   ]
  },
  {
   "cell_type": "code",
   "execution_count": 25,
   "metadata": {
    "collapsed": true,
    "deletable": true,
    "editable": true
   },
   "outputs": [],
   "source": [
    "#This is where the train steps happens. Cross entropy is calculated by running the current model and then running \n",
    "#gradient decent. Training step stores results from the gradient descent minimizing cost function (cross_entropy).\n",
    "\n",
    "\n",
    "cross_entropy = tf.reduce_mean(tf.nn.softmax_cross_entropy_with_logits(labels = y_output_layer, logits = y))\n",
    "\n",
    "train_step = tf.train.GradientDescentOptimizer(alpha).minimize(cross_entropy)"
   ]
  },
  {
   "cell_type": "code",
   "execution_count": 26,
   "metadata": {
    "collapsed": false,
    "deletable": true,
    "editable": true
   },
   "outputs": [],
   "source": [
    "#Init session and global variables\n",
    "sess = tf.InteractiveSession()\n",
    "sess.run(tf.global_variables_initializer())\n",
    "#Design batch variables- ensure dimension\n",
    "x_batch = np.ones((1, NUM_IN))\n",
    "y_batch = np.ones((1, 2))"
   ]
  },
  {
   "cell_type": "code",
   "execution_count": 27,
   "metadata": {
    "collapsed": false,
    "deletable": true,
    "editable": true
   },
   "outputs": [
    {
     "name": "stdout",
     "output_type": "stream",
     "text": [
      "DONE.\n"
     ]
    }
   ],
   "source": [
    "#Training Block:\n",
    "for i in range(1000): #Outside train loop\n",
    "     for j in range(0,m):\n",
    "            x_batch[0,:] = train_X[j,:]\n",
    "            #print(\"EXAMPLE\",j)\n",
    "            #print(x_batch)\n",
    "            y_batch[0,:] = train_Y[j]\n",
    "            train_step.run(feed_dict={x_input_layer: x_batch, y_output_layer: y_batch})\n",
    "print(\"DONE.\")"
   ]
  },
  {
   "cell_type": "code",
   "execution_count": 28,
   "metadata": {
    "collapsed": false,
    "deletable": true,
    "editable": true
   },
   "outputs": [
    {
     "name": "stdout",
     "output_type": "stream",
     "text": [
      "\n",
      "0.0\n",
      "0.0\n",
      "0.0\n",
      "0.0\n"
     ]
    }
   ],
   "source": [
    "#Test Block:\n",
    "\n",
    "correct_prediction = tf.equal(tf.argmax(y,1), tf.argmax(y_output_layer,1))\n",
    "print()\n",
    "accuracy = tf.reduce_mean(tf.cast(correct_prediction, tf.float32))\n",
    "for j in range(0,m):\n",
    "    x_batch[0,:] = test_x[j,:]\n",
    "    y_batch[0,:] = test_y[j]\n",
    "    print(accuracy.eval(feed_dict={x_input_layer: x_batch, y_output_layer: y_batch}))"
   ]
  }
 ],
 "metadata": {
  "kernelspec": {
   "display_name": "Python 3",
   "language": "python",
   "name": "python3"
  },
  "language_info": {
   "codemirror_mode": {
    "name": "ipython",
    "version": 3
   },
   "file_extension": ".py",
   "mimetype": "text/x-python",
   "name": "python",
   "nbconvert_exporter": "python",
   "pygments_lexer": "ipython3",
   "version": "3.6.0"
  }
 },
 "nbformat": 4,
 "nbformat_minor": 2
}
